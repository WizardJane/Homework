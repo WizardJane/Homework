{
 "cells": [
  {
   "cell_type": "markdown",
   "metadata": {},
   "source": [
    "Задача №1. Банковский счёт."
   ]
  },
  {
   "cell_type": "code",
   "execution_count": 255,
   "metadata": {},
   "outputs": [],
   "source": [
    "class BankAccount:\n",
    "    def __init__(self, owner, balance=0):\n",
    "        self.owner = owner\n",
    "        self.balance = balance\n",
    "\n",
    "\n",
    "    #Метод для внесения средств на счет.\n",
    "    def deposit(self, amount):\n",
    "        self.balance += amount\n",
    "\n",
    "\n",
    "    #Метод для снятия средств со счета.\n",
    "    def withdraw(self, amount):\n",
    "        if self.balance < amount:\n",
    "            print(\"Ошибка: Недостаточно средств\")\n",
    "        else:\n",
    "            self.balance -= amount\n",
    "\n",
    "    #Метод для получения текущего баланса счета.\n",
    "    def get_balance(self):\n",
    "        return self.balance"
   ]
  },
  {
   "cell_type": "code",
   "execution_count": 256,
   "metadata": {},
   "outputs": [
    {
     "name": "stdout",
     "output_type": "stream",
     "text": [
      "1300\n",
      "Ошибка: Недостаточно средств\n"
     ]
    }
   ],
   "source": [
    "account = BankAccount(\"Иван\", 1000)\n",
    "account.deposit(500)\n",
    "account.withdraw(200)\n",
    "print(account.get_balance())  # Ожидаемый результат: 1300\n",
    "account.withdraw(2000)  # Ожидаемый результат: \"Ошибка: Недостаточно средств\""
   ]
  },
  {
   "cell_type": "markdown",
   "metadata": {},
   "source": [
    "Задача №2: Чилловый библиотекарь"
   ]
  },
  {
   "cell_type": "code",
   "execution_count": 257,
   "metadata": {},
   "outputs": [],
   "source": [
    "class Book:\n",
    "    def __init__(self, title, author, year, status=\"доступна\"):\n",
    "        self.title = \"'\"+ title + \"'\"\n",
    "        self.author = author\n",
    "        self.year = year\n",
    "        self.status = status\n",
    "\n",
    "    #Возвращает строковое представление книги.\n",
    "    #'Преступление и наказание' (1866), автор: Фёдор Достоевский, статус: доступна\n",
    "    def __str__(self):\n",
    "        return self.title + \" (\" + str(self.year) + \"), автор: \" + self.author + \", статус: \" + self.status\n",
    "\n",
    "    #Выдача книги в аренду.\n",
    "    def borrow(self):\n",
    "        if self.status == \"доступна\":\n",
    "            self.status = \"на полке\"\n",
    "            print(\"Книга \" + self.title + \" взята в аренду.\")\n",
    "        else:\n",
    "            print(\"Книга уже взята в аренду.\")\n",
    "\n",
    "    #Возврат книги в библиотеку.\n",
    "    def return_book(self):\n",
    "        self.status = \"доступна\"\n",
    "        print(\"Книга \" + self.title + \" возвращена в библиотеку.\")\n",
    "\n",
    "class Library:\n",
    "    def __init__(self):\n",
    "        self.books = list()\n",
    "\n",
    "    #Добавить книгу в библиотеку.\n",
    "    def add_book(self, book):\n",
    "        self.books.append(book)\n",
    "        print(\"Книга \" + book.title + \" добавлена в библиотеку.\")\n",
    "\n",
    "    #Удалить книгу из библиотеки.\n",
    "    def remove_book(self, book):\n",
    "        if book in self.books:\n",
    "            self.books.remove(book)\n",
    "            print(\"Книга \" + book.title + \" удалена из библиотеки.\")\n",
    "\n",
    "    #Найти книгу по названию.\n",
    "    def find_book_by_title(self, title):\n",
    "        for b in self.books:\n",
    "            if b.title == title:\n",
    "                print(\"Найденная книга: \" + b)\n",
    "\n",
    "\n",
    "        \n",
    "    #Вывести список доступных книг.\n",
    "    def list_available_books(self):\n",
    "        print(\"Доступные книги в библиотеке:\")\n",
    "        for b in self.books:\n",
    "            if b.status == \"доступна\":\n",
    "                print(b)\n",
    "\n",
    "\n"
   ]
  },
  {
   "cell_type": "code",
   "execution_count": 258,
   "metadata": {},
   "outputs": [
    {
     "name": "stdout",
     "output_type": "stream",
     "text": [
      "Книга '1984' добавлена в библиотеку.\n",
      "Книга 'Преступление и наказание' добавлена в библиотеку.\n",
      "Книга 'Мастер и Маргарита' добавлена в библиотеку.\n",
      "Доступные книги в библиотеке:\n",
      "'1984' (1949), автор: Джордж Оруэлл, статус: доступна\n",
      "'Преступление и наказание' (1866), автор: Фёдор Достоевский, статус: доступна\n",
      "'Мастер и Маргарита' (1967), автор: Михаил Булгаков, статус: доступна\n",
      "Книга '1984' взята в аренду.\n",
      "Доступные книги в библиотеке:\n",
      "'Преступление и наказание' (1866), автор: Фёдор Достоевский, статус: доступна\n",
      "'Мастер и Маргарита' (1967), автор: Михаил Булгаков, статус: доступна\n",
      "Книга '1984' возвращена в библиотеку.\n",
      "Доступные книги в библиотеке:\n",
      "'1984' (1949), автор: Джордж Оруэлл, статус: доступна\n",
      "'Преступление и наказание' (1866), автор: Фёдор Достоевский, статус: доступна\n",
      "'Мастер и Маргарита' (1967), автор: Михаил Булгаков, статус: доступна\n"
     ]
    }
   ],
   "source": [
    "# Создаем книгу и добавляем её в библиотеку\n",
    "book1 = Book(\"1984\", \"Джордж Оруэлл\", 1949)\n",
    "book2 = Book(\"Преступление и наказание\", \"Фёдор Достоевский\", 1866)\n",
    "book3 = Book(\"Мастер и Маргарита\", \"Михаил Булгаков\", 1967)\n",
    "\n",
    "library = Library()\n",
    "library.add_book(book1)\n",
    "library.add_book(book2)\n",
    "library.add_book(book3)\n",
    "\n",
    "# Выводим доступные книги\n",
    "library.list_available_books()\n",
    "\n",
    "# Берем книгу в аренду\n",
    "book1.borrow()\n",
    "\n",
    "# Смотрим доступные книги снова\n",
    "library.list_available_books()\n",
    "\n",
    "# Возвращаем книгу в библиотеку\n",
    "book1.return_book()\n",
    "\n",
    "# Смотрим доступные книги после возврата\n",
    "library.list_available_books()\n",
    "\n",
    "#Найдём книгу по названию\n",
    "library.find_book_by_title(\"1984\")"
   ]
  },
  {
   "cell_type": "markdown",
   "metadata": {},
   "source": [
    "Задача №3: Бу! Не бойся, я доктор"
   ]
  },
  {
   "cell_type": "markdown",
   "metadata": {},
   "source": [
    "Теоретический вопрос: какие существуют алгоритмы для классификации, кроме логистической регрессии?\n",
    "Метод K-ближайших соседей (KNN), метод опорных векторов (SVM), случайный лес, наивный байесовский метод."
   ]
  },
  {
   "cell_type": "code",
   "execution_count": 259,
   "metadata": {},
   "outputs": [
    {
     "name": "stdout",
     "output_type": "stream",
     "text": [
      "Predicted: [1 0 1 0 0 0 0 0 0 1 0 0 0 0 0 1 1 1 0 0 0 0 0 1 0 0 0 0 0 1 0 0 1 0 0 0 1\n",
      " 0 1 0 0 0 0 0 1 0 0 0 0 1 0 1 0 1 0 0 1 0 0 0 0 0 0 0 0 1 0 0 0 0 0 1 0 0\n",
      " 0 0 1 0 0 0 1 0 0 0 0 1 0 0 0 0 0 1 1 0 0 0 1 1 0 0 0 0 0 1 0 0 0 0 1 0 0\n",
      " 0 0 1 1 1 1 1 0 0 0 1 1 1 0 1 0 0 0 1 1 0 0 0 0 1 0 1 1 1 1 1 1 0 1 1 1]\n",
      "Real [0 0 0 1 0 0 0 0 0 1 0 0 1 1 0 1 1 0 0 1 0 0 0 1 1 1 0 0 0 1 0 0 1 0 0 0 1\n",
      " 1 1 0 0 0 0 0 1 0 1 0 0 0 1 1 0 0 1 0 0 0 1 1 0 0 0 0 0 1 0 0 1 1 0 1 1 0\n",
      " 0 0 1 1 1 0 0 0 0 1 0 0 0 0 0 0 0 1 0 0 0 1 0 1 0 0 0 0 1 1 0 0 0 0 1 0 0\n",
      " 0 1 1 1 1 1 1 1 1 1 1 1 0 0 1 0 0 0 1 1 1 0 0 0 1 0 1 1 1 0 1 1 0 1 1 1]\n",
      "Logistic Regression model accuracy (in %): 74.82993197278913\n"
     ]
    }
   ],
   "source": [
    "#1 Загрузим данные\n",
    "import numpy as np\n",
    "from sklearn.datasets import load_diabetes\n",
    "from sklearn.preprocessing import StandardScaler\n",
    "from sklearn.linear_model import LogisticRegression\n",
    "from sklearn.metrics import accuracy_score\n",
    "import matplotlib.pyplot as plt\n",
    "\n",
    "diabetes = load_diabetes()\n",
    "#print(diabetes.DESCR)\n",
    "\n",
    "n_samples, n_features = diabetes.data.shape\n",
    "\n",
    "#3 Масштабируем признаки \n",
    "scaler = StandardScaler()\n",
    "diabetes_data = scaler.fit_transform(diabetes.data)\n",
    "\n",
    "#2 Разделим данные на обучающую и тестовую выборки\n",
    "test_data = diabetes_data[:(n_samples // 3), :]\n",
    "test_data_target = diabetes.target[:(n_samples // 3)]\n",
    "learning_data = diabetes_data[(n_samples // 3): , :]\n",
    "learning_data_target = diabetes.target[(n_samples // 3):]\n",
    "\n",
    "\n",
    "def ML(learning_data, learning_data_target, test_data, test_data_target):\n",
    "    #граница для выделения диабетиков\n",
    "    bound = learning_data_target.mean()\n",
    "\n",
    "    #4 Построим классификатор с использованием логистической регрессии\n",
    "    model = LogisticRegression()\n",
    "    y = (learning_data_target > bound)\n",
    "    y = np.array(y, dtype=int)\n",
    "    model.fit(learning_data, y)\n",
    "\n",
    "    result = model.predict(test_data)\n",
    "    print(\"Predicted:\", result)\n",
    "    y = (test_data_target > bound)\n",
    "    print(\"Real\", np.array(y, dtype=int))\n",
    "\n",
    "    #Оценка точности\n",
    "    acc = accuracy_score(y, result)\n",
    "    print(\"Logistic Regression model accuracy (in %):\", acc*100)\n",
    "\n",
    "\n",
    "\n",
    "ML(learning_data, learning_data_target, test_data, test_data_target)\n"
   ]
  },
  {
   "cell_type": "code",
   "execution_count": 260,
   "metadata": {},
   "outputs": [
    {
     "data": {
      "image/png": "[encoded data removed]",
      "text/plain": [
       "<Figure size 640x480 with 1 Axes>"
      ]
     },
     "metadata": {},
     "output_type": "display_data"
    }
   ],
   "source": [
    "#здесь я просто смотрела, как данные масштабируются\n",
    "\n",
    "import matplotlib.pyplot as plt\n",
    "from matplotlib import ticker\n",
    "\n",
    "x_index = 0\n",
    "\n",
    "\n",
    "plt.scatter(np.arange(1, n_samples + 1), diabetes.data[:, x_index], color=\"red\")\n",
    "plt.scatter(np.arange(1, n_samples + 1), StandardScaler().fit_transform(diabetes.data)[:, x_index], color=\"blue\")\n",
    "plt.show()"
   ]
  },
  {
   "cell_type": "markdown",
   "metadata": {},
   "source": [
    "Задача №4: Плохой риелтор"
   ]
  },
  {
   "cell_type": "markdown",
   "metadata": {},
   "source": [
    "Attribute Information:\n",
    "- MedInc - median income in block group\n",
    "- HouseAge - median house age in block group\n",
    "- AveRooms - average number of rooms per household\n",
    "- AveBedrms - average number of bedrooms per household\n",
    "- Population - block group population\n",
    "- AveOccup - average number of household members\n",
    "- Latitude - block group latitude\n",
    "- Longitude - block group longitude\n"
   ]
  },
  {
   "cell_type": "code",
   "execution_count": 261,
   "metadata": {},
   "outputs": [
    {
     "name": "stdout",
     "output_type": "stream",
     "text": [
      "Mean Squared Error: 0.51\n",
      "R-squared Score: 0.62\n"
     ]
    }
   ],
   "source": [
    "import numpy as np\n",
    "import pandas as pd\n",
    "from sklearn.feature_selection import f_regression\n",
    "from sklearn.datasets import fetch_california_housing\n",
    "from sklearn.preprocessing import StandardScaler, KBinsDiscretizer\n",
    "from sklearn.linear_model import LinearRegression\n",
    "from sklearn.metrics import mean_squared_error, r2_score\n",
    "\n",
    "\n",
    "X = fetch_california_housing(as_frame=True).frame\n",
    "#print(fetch_california_housing().DESCR)\n",
    "\n",
    "# Преобразуем некоторые числовые признаки в категориальные\n",
    "categorical_features = [\"AveRooms\", \"AveOccup\", \"HouseAge\"]  \n",
    "binner = KBinsDiscretizer(n_bins=4, encode=\"onehot-dense\", strategy=\"quantile\")\n",
    "X_categorical = binner.fit_transform(X[categorical_features])\n",
    "X_categorical_df = pd.DataFrame(X_categorical, columns=[f\"{col}_bin_{i}\" for col in categorical_features for i in range(4)])\n",
    "\n",
    "\n",
    "#1 Объедините категориальные признаки с оставшимися числовыми, чтобы использовать их вместе.\n",
    "X2 = X.drop(columns=[\"AveRooms\",\"AveBedrms\",\"AveOccup\", \"MedHouseVal\"])\n",
    "data = X_categorical_df.merge(X2, left_index=True, right_index=True)\n",
    "data_target = X[\"MedHouseVal\"]\n",
    "\n",
    "def ML(data, data_target):\n",
    "    #разделение данных\n",
    "    global learning_data, test_data, test_data_target, learning_data_target\n",
    "\n",
    "    n_samples, n_features = data.shape\n",
    "    test_data = data.loc[:(n_samples // 3), :]\n",
    "    test_data_target = data_target.loc[:(n_samples // 3)]\n",
    "    learning_data = data.loc[(n_samples // 3): , :]\n",
    "    learning_data_target = data_target.loc[(n_samples // 3):]\n",
    "\n",
    "    #построение модели\n",
    "    model = LinearRegression()\n",
    "    model.fit(learning_data, learning_data_target)\n",
    "    result = model.predict(test_data)\n",
    "    # print(\"Predicted:\", result)\n",
    "    # print(\"Real:\", test_data_target)\n",
    "\n",
    "    #2 Рассчитайте MSE и R^2, чтобы оценить качество модели.\n",
    "    mse = mean_squared_error(test_data_target, result)\n",
    "    r2 = r2_score(test_data_target, result)\n",
    "    print(f\"Mean Squared Error: {mse:.2f}\")\n",
    "    print(f\"R-squared Score: {r2:.2f}\")\n",
    "\n",
    "ML(data, data_target)\n"
   ]
  },
  {
   "cell_type": "code",
   "execution_count": 262,
   "metadata": {},
   "outputs": [
    {
     "name": "stdout",
     "output_type": "stream",
     "text": [
      "AveRooms_bin_0: 217.44482952396584\n",
      "AveRooms_bin_1: 277.5877823450638\n",
      "AveRooms_bin_2: 55.35232369608122\n",
      "AveRooms_bin_3: 1528.3550275352914\n",
      "AveOccup_bin_0: 449.4439939137813\n",
      "AveOccup_bin_1: 51.19911897318171\n",
      "AveOccup_bin_2: 9.911024197316356\n",
      "AveOccup_bin_3: 661.2843915155141\n",
      "HouseAge_bin_0: 59.70068307746926\n",
      "HouseAge_bin_1: 2.4550891640426693\n",
      "HouseAge_bin_2: 0.45901946484724887\n",
      "HouseAge_bin_3: 116.02571849517915\n",
      "MedInc: 12057.586014392506\n",
      "HouseAge: 197.58329183917422\n",
      "Population: 51.144901697858444\n",
      "Latitude: 72.8448655160492\n",
      "Longitude: 262.811760955538\n"
     ]
    }
   ],
   "source": [
    "#3 Оцените, какие из признаков вносят наибольший вклад при предсказании стоимости дома.\n",
    "val = f_regression(learning_data, learning_data_target)[0]\n",
    "col = data.columns\n",
    "for i in range(len(col)):\n",
    "    print(col[i] + \":\", val[i])\n"
   ]
  },
  {
   "cell_type": "markdown",
   "metadata": {},
   "source": [
    "Мы видим, что наибольший вклад вносит MedInc, то есть средний доход жильцов, после него AveRooms - среднее количество спален в доме, причем влияет именно случай, когда это число большое."
   ]
  },
  {
   "cell_type": "code",
   "execution_count": 263,
   "metadata": {},
   "outputs": [
    {
     "name": "stdout",
     "output_type": "stream",
     "text": [
      "Mean Squared Error: 0.61\n",
      "R-squared Score: 0.55\n"
     ]
    }
   ],
   "source": [
    "#4 Посмотрите как добавление или удаление категориальных признаков (например, HouseAge_bin, AveRooms_bin) влияет на качество модели.\n",
    "# Построим предсказание только на числовых признаках\n",
    "data2 = X2.copy()\n",
    "data_target2 = data_target.copy()\n",
    "ML(data2, data_target2)\n"
   ]
  },
  {
   "cell_type": "code",
   "execution_count": 264,
   "metadata": {},
   "outputs": [
    {
     "name": "stdout",
     "output_type": "stream",
     "text": [
      "Mean Squared Error: 0.61\n",
      "R-squared Score: 0.54\n"
     ]
    }
   ],
   "source": [
    "# Добавим HouseAge_bin\n",
    "data3 = X2.copy()\n",
    "data_target3 = data_target.copy()\n",
    "data3 = X2.merge(X_categorical_df[\"HouseAge_bin_0\"], left_index=True, right_index=True)\n",
    "data3 = X2.merge(X_categorical_df[\"HouseAge_bin_1\"], left_index=True, right_index=True)\n",
    "data3 = X2.merge(X_categorical_df[\"HouseAge_bin_2\"], left_index=True, right_index=True)\n",
    "data3 = X2.merge(X_categorical_df[\"HouseAge_bin_3\"], left_index=True, right_index=True)\n",
    "ML(data3, data_target3)\n"
   ]
  },
  {
   "cell_type": "code",
   "execution_count": 265,
   "metadata": {},
   "outputs": [
    {
     "name": "stdout",
     "output_type": "stream",
     "text": [
      "Mean Squared Error: 0.61\n",
      "R-squared Score: 0.54\n"
     ]
    }
   ],
   "source": [
    "# Добавим AveRooms_bin\n",
    "data4 = X2.copy()\n",
    "data_target4 = data_target.copy()\n",
    "data4 = X2.merge(X_categorical_df[\"AveRooms_bin_0\"], left_index=True, right_index=True)\n",
    "data4 = X2.merge(X_categorical_df[\"AveRooms_bin_1\"], left_index=True, right_index=True)\n",
    "data4 = X2.merge(X_categorical_df[\"AveRooms_bin_2\"], left_index=True, right_index=True)\n",
    "data4 = X2.merge(X_categorical_df[\"AveRooms_bin_3\"], left_index=True, right_index=True)\n",
    "ML(data4, data_target4)"
   ]
  },
  {
   "cell_type": "code",
   "execution_count": 266,
   "metadata": {},
   "outputs": [
    {
     "name": "stdout",
     "output_type": "stream",
     "text": [
      "Mean Squared Error: 0.58\n",
      "R-squared Score: 0.57\n"
     ]
    }
   ],
   "source": [
    "# Добавим AveOccup_bin\n",
    "data5 = X2.copy()\n",
    "data_target5 = data_target.copy()\n",
    "data5 = X2.merge(X_categorical_df[\"AveOccup_bin_0\"], left_index=True, right_index=True)\n",
    "data5 = X2.merge(X_categorical_df[\"AveOccup_bin_1\"], left_index=True, right_index=True)\n",
    "data5 = X2.merge(X_categorical_df[\"AveOccup_bin_2\"], left_index=True, right_index=True)\n",
    "data5 = X2.merge(X_categorical_df[\"AveOccup_bin_3\"], left_index=True, right_index=True)\n",
    "ML(data5, data_target5)"
   ]
  },
  {
   "cell_type": "markdown",
   "metadata": {},
   "source": [
    "Видно, что среди всех категориальных признаков значительнее остальных AveOccup_bin повышает точность, но в целом категориальные признаки мало влияют на результат модели. "
   ]
  },
  {
   "cell_type": "code",
   "execution_count": 267,
   "metadata": {},
   "outputs": [
    {
     "name": "stdout",
     "output_type": "stream",
     "text": [
      "Mean Squared Error: 0.51\n",
      "R-squared Score: 0.62\n"
     ]
    }
   ],
   "source": [
    "#5 Исследуйте, как разные методы предобработки данных влияют на результат модели. \n",
    "#Стандартизируем численные признаки\n",
    "\n",
    "binner6 = KBinsDiscretizer(n_bins=4, encode=\"onehot-dense\", strategy=\"quantile\")\n",
    "X_categorical6 = binner6.fit_transform(X[categorical_features])\n",
    "X_categorical_df6 = pd.DataFrame(X_categorical, columns=[f\"{col}_bin_{i}\" for col in categorical_features for i in range(4)])\n",
    "\n",
    "\n",
    "X6 = X.drop(columns=[\"AveRooms\",\"AveBedrms\",\"AveOccup\", \"MedHouseVal\"])\n",
    "X6 = pd.DataFrame(StandardScaler().fit_transform(X6.values), index=X6.index, columns=X6.columns)\n",
    "data6 = X_categorical_df.merge(X6, left_index=True, right_index=True)\n",
    "data_target6 = X[\"MedHouseVal\"]\n",
    "ML(data6, data_target6)\n"
   ]
  },
  {
   "cell_type": "markdown",
   "metadata": {},
   "source": [
    "Стандартизация никак не повлияла на точность модели."
   ]
  }
 ],
 "metadata": {
  "kernelspec": {
   "display_name": "Python 3",
   "language": "python",
   "name": "python3"
  },
  "language_info": {
   "codemirror_mode": {
    "name": "ipython",
    "version": 3
   },
   "file_extension": ".py",
   "mimetype": "text/x-python",
   "name": "python",
   "nbconvert_exporter": "python",
   "pygments_lexer": "ipython3",
   "version": "3.12.0"
  }
 },
 "nbformat": 4,
 "nbformat_minor": 2
}
