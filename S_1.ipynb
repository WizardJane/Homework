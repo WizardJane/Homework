{
  "nbformat": 4,
  "nbformat_minor": 0,
  "metadata": {
    "colab": {
      "provenance": []
    },
    "kernelspec": {
      "name": "python3",
      "display_name": "Python 3"
    },
    "language_info": {
      "name": "python"
    }
  },
  "cells": [
    {
      "cell_type": "markdown",
      "source": [
        "Задание 1"
      ],
      "metadata": {
        "id": "SwUH5NmBgNbG"
      }
    },
    {
      "cell_type": "code",
      "source": [
        "s1, s2 = input().split()\n",
        "print(s2, s1)"
      ],
      "metadata": {
        "colab": {
          "base_uri": "https://localhost:8080/"
        },
        "id": "IaQTU4dmUcPo",
        "outputId": "72274937-fc22-4cf7-c68c-681e201baf7f"
      },
      "execution_count": 4,
      "outputs": [
        {
          "output_type": "stream",
          "name": "stdout",
          "text": [
            "Ivan Ivanou\n",
            "Ivanou Ivan\n"
          ]
        }
      ]
    },
    {
      "cell_type": "markdown",
      "source": [
        "Задание 2"
      ],
      "metadata": {
        "id": "H8Q5IC9aUjwm"
      }
    },
    {
      "cell_type": "code",
      "source": [
        "a = { 'a': 1, 'b': 2, 'c': 3}\n",
        "b = { 'c': 3, 'd': 4,'e': 5}\n",
        "ab = dict()\n",
        "for key in a:\n",
        "  ab[key] = [a[key], None]\n",
        "\n",
        "for key in b:\n",
        "  if key in ab:\n",
        "    ab[key][1] = b[key]\n",
        "  else:\n",
        "    ab[key] = [None, b[key]]\n",
        "\n",
        "print(ab)"
      ],
      "metadata": {
        "colab": {
          "base_uri": "https://localhost:8080/"
        },
        "id": "zpANcyzjUlop",
        "outputId": "415cb49e-7a1c-4ac0-bcfe-00b2abfce50a"
      },
      "execution_count": 3,
      "outputs": [
        {
          "output_type": "stream",
          "name": "stdout",
          "text": [
            "{'a': [1, None], 'b': [2, None], 'c': [3, 3], 'd': [None, 4], 'e': [None, 5]}\n"
          ]
        }
      ]
    }
  ]
}